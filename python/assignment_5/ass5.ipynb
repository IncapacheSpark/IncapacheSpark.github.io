{
 "cells": [
  {
   "cell_type": "code",
   "execution_count": 1,
   "id": "48d3b7f9-68d7-447e-b229-81114c20340b",
   "metadata": {},
   "outputs": [],
   "source": [
    "import geopandas as gpd"
   ]
  },
  {
   "cell_type": "code",
   "execution_count": 2,
   "id": "1ca48525-4b76-4357-bcdc-e75cf879d50c",
   "metadata": {},
   "outputs": [],
   "source": [
    "tree_df = gpd.read_file(\"../data/geo_data_trees.geo.json\")"
   ]
  },
  {
   "cell_type": "code",
   "execution_count": 3,
   "id": "347e1795-7186-4a85-9861-744475ca42b9",
   "metadata": {},
   "outputs": [
    {
     "data": {
      "text/html": [
       "<div>\n",
       "<style scoped>\n",
       "    .dataframe tbody tr th:only-of-type {\n",
       "        vertical-align: middle;\n",
       "    }\n",
       "\n",
       "    .dataframe tbody tr th {\n",
       "        vertical-align: top;\n",
       "    }\n",
       "\n",
       "    .dataframe thead th {\n",
       "        text-align: right;\n",
       "    }\n",
       "</style>\n",
       "<table border=\"1\" class=\"dataframe\">\n",
       "  <thead>\n",
       "    <tr style=\"text-align: right;\">\n",
       "      <th></th>\n",
       "      <th>Name</th>\n",
       "      <th>Carbon Storage (kg)</th>\n",
       "      <th>Total Annual Benefits (eur/yr)</th>\n",
       "    </tr>\n",
       "  </thead>\n",
       "  <tbody>\n",
       "    <tr>\n",
       "      <th>0</th>\n",
       "      <td>Acer pseudoplatanus</td>\n",
       "      <td>12</td>\n",
       "      <td>0.21</td>\n",
       "    </tr>\n",
       "    <tr>\n",
       "      <th>1</th>\n",
       "      <td>Acer pseudoplatanus</td>\n",
       "      <td>12.9</td>\n",
       "      <td>0.23</td>\n",
       "    </tr>\n",
       "    <tr>\n",
       "      <th>2</th>\n",
       "      <td>Acer pseudoplatanus</td>\n",
       "      <td>16.2</td>\n",
       "      <td>0.25</td>\n",
       "    </tr>\n",
       "    <tr>\n",
       "      <th>3</th>\n",
       "      <td>Acer pseudoplatanus</td>\n",
       "      <td>25.7</td>\n",
       "      <td>0.34</td>\n",
       "    </tr>\n",
       "    <tr>\n",
       "      <th>4</th>\n",
       "      <td>Cupressus</td>\n",
       "      <td>448.2</td>\n",
       "      <td>1.85</td>\n",
       "    </tr>\n",
       "    <tr>\n",
       "      <th>...</th>\n",
       "      <td>...</td>\n",
       "      <td>...</td>\n",
       "      <td>...</td>\n",
       "    </tr>\n",
       "    <tr>\n",
       "      <th>12508</th>\n",
       "      <td>Philadelphus</td>\n",
       "      <td>396.2</td>\n",
       "      <td>2.11</td>\n",
       "    </tr>\n",
       "    <tr>\n",
       "      <th>12509</th>\n",
       "      <td>Forsythia x intermedia</td>\n",
       "      <td>320.9</td>\n",
       "      <td>2.34</td>\n",
       "    </tr>\n",
       "    <tr>\n",
       "      <th>12510</th>\n",
       "      <td>Aucuba japonica</td>\n",
       "      <td>356.2</td>\n",
       "      <td>1.46</td>\n",
       "    </tr>\n",
       "    <tr>\n",
       "      <th>12511</th>\n",
       "      <td>Osmanthus fragrans</td>\n",
       "      <td>240.7</td>\n",
       "      <td>1.17</td>\n",
       "    </tr>\n",
       "    <tr>\n",
       "      <th>12512</th>\n",
       "      <td>Total</td>\n",
       "      <td>5484735</td>\n",
       "      <td>25099</td>\n",
       "    </tr>\n",
       "  </tbody>\n",
       "</table>\n",
       "<p>12513 rows × 3 columns</p>\n",
       "</div>"
      ],
      "text/plain": [
       "                         Name Carbon Storage (kg)  \\\n",
       "0         Acer pseudoplatanus                  12   \n",
       "1         Acer pseudoplatanus                12.9   \n",
       "2         Acer pseudoplatanus                16.2   \n",
       "3         Acer pseudoplatanus                25.7   \n",
       "4                   Cupressus               448.2   \n",
       "...                       ...                 ...   \n",
       "12508            Philadelphus               396.2   \n",
       "12509  Forsythia x intermedia               320.9   \n",
       "12510         Aucuba japonica               356.2   \n",
       "12511      Osmanthus fragrans               240.7   \n",
       "12512                   Total             5484735   \n",
       "\n",
       "      Total Annual Benefits (eur/yr)  \n",
       "0                               0.21  \n",
       "1                               0.23  \n",
       "2                               0.25  \n",
       "3                               0.34  \n",
       "4                               1.85  \n",
       "...                              ...  \n",
       "12508                           2.11  \n",
       "12509                           2.34  \n",
       "12510                           1.46  \n",
       "12511                           1.17  \n",
       "12512                          25099  \n",
       "\n",
       "[12513 rows x 3 columns]"
      ]
     },
     "execution_count": 3,
     "metadata": {},
     "output_type": "execute_result"
    }
   ],
   "source": [
    "cols_save = ['Name', 'Carbon Storage (kg)', 'Total Annual Benefits (eur/yr)']\n",
    "tree_df = tree_df[cols_save]\n",
    "tree_df"
   ]
  },
  {
   "cell_type": "code",
   "execution_count": 4,
   "id": "bba0a6a1-ff0f-4c6a-8e4f-6329295ede2f",
   "metadata": {},
   "outputs": [],
   "source": [
    "tree_df['count'] = tree_df.groupby(['Name'])['Name'].transform('count')\n",
    "tree_df = tree_df.sort_values(by='count', ascending=False)"
   ]
  },
  {
   "cell_type": "code",
   "execution_count": 5,
   "id": "23e9b790-3aa1-47c3-aca3-60175454bfe1",
   "metadata": {},
   "outputs": [],
   "source": [
    "top_list = ['Celtis australis', 'Aesculus hippocastanum', 'Carpinus betulus', 'Tilia cordata', 'Platanus x hispanica', 'Tilia x europaea', 'Acer campestre', 'Cupressus', 'Sophora japonica']\n",
    "def replace_species(x):\n",
    "    if x in top_list:\n",
    "        return x\n",
    "    else:\n",
    "        return \"other\"\n",
    "tree_df['Name'] = tree_df['Name'].apply(replace_species)\n",
    "\n"
   ]
  },
  {
   "cell_type": "code",
   "execution_count": 6,
   "id": "648fa9a5-bddc-44a6-8dda-d6c0e14f44a0",
   "metadata": {},
   "outputs": [],
   "source": [
    "var_left = 'Carbon Storage (kg)';\n",
    "var_right = 'Total Annual Benefits (eur/yr)';\n",
    "tree_df[var_left] = tree_df[var_left].astype(float);\n",
    "tree_df[var_right] = tree_df[var_right].astype(float);\n",
    "\n",
    "df_final  = tree_df.groupby(\"Name\").agg({var_left: \"sum\", var_right: \"sum\"});\n",
    "#df_final = tree_df.groupby(\"Name\")[[var_right, var_left]].sum();"
   ]
  },
  {
   "cell_type": "code",
   "execution_count": 7,
   "id": "9deddc0e-1bbe-4b9d-bf09-a190ca1ff90b",
   "metadata": {},
   "outputs": [],
   "source": [
    "#cols_save = ['Name', 'Storage per species', 'Euro saved per species'];\n",
    "#tree_df = tree_df2[cols_save]\n",
    "df_final.to_csv(\"../data/ass5.csv\")"
   ]
  },
  {
   "cell_type": "markdown",
   "id": "c3fa5580-7d11-423d-8696-d3eafe91e9d0",
   "metadata": {},
   "source": [
    "normalizzo i valori della colonna var_left e della colonna var_right. Lo scopo e' che la somma degli elementi di var_left sia pari alla somma degli elementi di var_right. Cosi fancedo il grafico sankey avra due colonne pari all'inizio e alla fine del flusso"
   ]
  },
  {
   "cell_type": "code",
   "execution_count": 8,
   "id": "03895f7f-9e03-4c81-8e60-49571851b74e",
   "metadata": {},
   "outputs": [
    {
     "name": "stdout",
     "output_type": "stream",
     "text": [
      "10969475.4\n",
      "50196.89\n"
     ]
    }
   ],
   "source": [
    "df = df_final;\n",
    "def check_sums():\n",
    "    print(df[var_left].sum())\n",
    "    print(df[var_right].sum())\n",
    "check_sums()"
   ]
  },
  {
   "cell_type": "code",
   "execution_count": 9,
   "id": "38302ac4-2751-4566-b559-fc6c39f8a9a1",
   "metadata": {},
   "outputs": [],
   "source": [
    "\"\"\"\n",
    "def normalizer(elem):\n",
    "    return (elem - min_v) / ((max_v - min_v));\n",
    "max_v = df[var_left].max(); min_v = df[var_left].min();\n",
    "df[var_left] = df[var_left].apply(normalizer);\n",
    "max_v = df[var_right].max(); min_v = df[var_right].min();\n",
    "df[var_right] = df[var_right].apply(normalizer);\n",
    "\"\"\"\n",
    "a=1"
   ]
  },
  {
   "cell_type": "code",
   "execution_count": 10,
   "id": "d87d384f-fc46-418e-9d3e-556e93f1b52b",
   "metadata": {},
   "outputs": [],
   "source": [
    "ratio = df[var_left].sum() / df[var_right].sum()\n",
    "df[var_right] = df[var_right].apply(lambda elem : elem * ratio)"
   ]
  },
  {
   "cell_type": "code",
   "execution_count": 11,
   "id": "968de0ee-d1c9-4baa-bedb-4b601b87d168",
   "metadata": {},
   "outputs": [],
   "source": [
    "df = df.round(decimals=1)\n",
    "df.to_csv(\"../data/ass5.csv\")"
   ]
  },
  {
   "cell_type": "code",
   "execution_count": 12,
   "id": "7e122c7c-59f8-4292-9cdc-742708a2a28f",
   "metadata": {},
   "outputs": [
    {
     "name": "stdout",
     "output_type": "stream",
     "text": [
      "10969475.4\n",
      "10969475.2\n"
     ]
    }
   ],
   "source": [
    "check_sums()"
   ]
  },
  {
   "cell_type": "code",
   "execution_count": 13,
   "id": "c3b65dd2-cc9a-4d16-b3c4-bb894afe976f",
   "metadata": {},
   "outputs": [
    {
     "data": {
      "text/html": [
       "<div>\n",
       "<style scoped>\n",
       "    .dataframe tbody tr th:only-of-type {\n",
       "        vertical-align: middle;\n",
       "    }\n",
       "\n",
       "    .dataframe tbody tr th {\n",
       "        vertical-align: top;\n",
       "    }\n",
       "\n",
       "    .dataframe thead th {\n",
       "        text-align: right;\n",
       "    }\n",
       "</style>\n",
       "<table border=\"1\" class=\"dataframe\">\n",
       "  <thead>\n",
       "    <tr style=\"text-align: right;\">\n",
       "      <th></th>\n",
       "      <th>Carbon Storage (kg)</th>\n",
       "      <th>Total Annual Benefits (eur/yr)</th>\n",
       "    </tr>\n",
       "    <tr>\n",
       "      <th>Name</th>\n",
       "      <th></th>\n",
       "      <th></th>\n",
       "    </tr>\n",
       "  </thead>\n",
       "  <tbody>\n",
       "    <tr>\n",
       "      <th>Acer campestre</th>\n",
       "      <td>36849.8</td>\n",
       "      <td>55663.7</td>\n",
       "    </tr>\n",
       "    <tr>\n",
       "      <th>Aesculus hippocastanum</th>\n",
       "      <td>438610.9</td>\n",
       "      <td>461946.2</td>\n",
       "    </tr>\n",
       "    <tr>\n",
       "      <th>Carpinus betulus</th>\n",
       "      <td>62980.1</td>\n",
       "      <td>111893.4</td>\n",
       "    </tr>\n",
       "    <tr>\n",
       "      <th>Celtis australis</th>\n",
       "      <td>70736.5</td>\n",
       "      <td>372904.4</td>\n",
       "    </tr>\n",
       "    <tr>\n",
       "      <th>Cupressus</th>\n",
       "      <td>198211.0</td>\n",
       "      <td>174838.5</td>\n",
       "    </tr>\n",
       "    <tr>\n",
       "      <th>Platanus x hispanica</th>\n",
       "      <td>1083313.4</td>\n",
       "      <td>621852.6</td>\n",
       "    </tr>\n",
       "    <tr>\n",
       "      <th>Sophora japonica</th>\n",
       "      <td>80562.6</td>\n",
       "      <td>123680.8</td>\n",
       "    </tr>\n",
       "    <tr>\n",
       "      <th>Tilia cordata</th>\n",
       "      <td>65967.6</td>\n",
       "      <td>131748.9</td>\n",
       "    </tr>\n",
       "    <tr>\n",
       "      <th>Tilia x europaea</th>\n",
       "      <td>406394.2</td>\n",
       "      <td>370957.3</td>\n",
       "    </tr>\n",
       "    <tr>\n",
       "      <th>other</th>\n",
       "      <td>8525849.3</td>\n",
       "      <td>8543989.4</td>\n",
       "    </tr>\n",
       "  </tbody>\n",
       "</table>\n",
       "</div>"
      ],
      "text/plain": [
       "                        Carbon Storage (kg)  Total Annual Benefits (eur/yr)\n",
       "Name                                                                       \n",
       "Acer campestre                      36849.8                         55663.7\n",
       "Aesculus hippocastanum             438610.9                        461946.2\n",
       "Carpinus betulus                    62980.1                        111893.4\n",
       "Celtis australis                    70736.5                        372904.4\n",
       "Cupressus                          198211.0                        174838.5\n",
       "Platanus x hispanica              1083313.4                        621852.6\n",
       "Sophora japonica                    80562.6                        123680.8\n",
       "Tilia cordata                       65967.6                        131748.9\n",
       "Tilia x europaea                   406394.2                        370957.3\n",
       "other                             8525849.3                       8543989.4"
      ]
     },
     "execution_count": 13,
     "metadata": {},
     "output_type": "execute_result"
    }
   ],
   "source": [
    "df"
   ]
  },
  {
   "cell_type": "code",
   "execution_count": 14,
   "id": "23ac0800-2c34-485f-90eb-3662977f4e09",
   "metadata": {},
   "outputs": [
    {
     "data": {
      "text/plain": [
       "218.5289845645816"
      ]
     },
     "execution_count": 14,
     "metadata": {},
     "output_type": "execute_result"
    }
   ],
   "source": [
    "ratio"
   ]
  }
 ],
 "metadata": {
  "kernelspec": {
   "display_name": "Python 3 (ipykernel)",
   "language": "python",
   "name": "python3"
  },
  "language_info": {
   "codemirror_mode": {
    "name": "ipython",
    "version": 3
   },
   "file_extension": ".py",
   "mimetype": "text/x-python",
   "name": "python",
   "nbconvert_exporter": "python",
   "pygments_lexer": "ipython3",
   "version": "3.9.12"
  }
 },
 "nbformat": 4,
 "nbformat_minor": 5
}
