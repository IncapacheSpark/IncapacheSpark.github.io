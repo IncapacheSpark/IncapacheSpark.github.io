{
 "cells": [
  {
   "cell_type": "code",
   "execution_count": 1,
   "id": "48d3b7f9-68d7-447e-b229-81114c20340b",
   "metadata": {},
   "outputs": [],
   "source": [
    "import geopandas as gpd"
   ]
  },
  {
   "cell_type": "code",
   "execution_count": 2,
   "id": "1ca48525-4b76-4357-bcdc-e75cf879d50c",
   "metadata": {},
   "outputs": [],
   "source": [
    "tree_df = gpd.read_file(\"data/geo_data_trees.geo.json\")"
   ]
  },
  {
   "cell_type": "code",
   "execution_count": 3,
   "id": "347e1795-7186-4a85-9861-744475ca42b9",
   "metadata": {},
   "outputs": [
    {
     "data": {
      "text/html": [
       "<div>\n",
       "<style scoped>\n",
       "    .dataframe tbody tr th:only-of-type {\n",
       "        vertical-align: middle;\n",
       "    }\n",
       "\n",
       "    .dataframe tbody tr th {\n",
       "        vertical-align: top;\n",
       "    }\n",
       "\n",
       "    .dataframe thead th {\n",
       "        text-align: right;\n",
       "    }\n",
       "</style>\n",
       "<table border=\"1\" class=\"dataframe\">\n",
       "  <thead>\n",
       "    <tr style=\"text-align: right;\">\n",
       "      <th></th>\n",
       "      <th>Name</th>\n",
       "      <th>Carbon Storage (kg)</th>\n",
       "      <th>Total Annual Benefits (eur/yr)</th>\n",
       "    </tr>\n",
       "  </thead>\n",
       "  <tbody>\n",
       "    <tr>\n",
       "      <th>0</th>\n",
       "      <td>Acer pseudoplatanus</td>\n",
       "      <td>12</td>\n",
       "      <td>0.21</td>\n",
       "    </tr>\n",
       "    <tr>\n",
       "      <th>1</th>\n",
       "      <td>Acer pseudoplatanus</td>\n",
       "      <td>12.9</td>\n",
       "      <td>0.23</td>\n",
       "    </tr>\n",
       "    <tr>\n",
       "      <th>2</th>\n",
       "      <td>Acer pseudoplatanus</td>\n",
       "      <td>16.2</td>\n",
       "      <td>0.25</td>\n",
       "    </tr>\n",
       "    <tr>\n",
       "      <th>3</th>\n",
       "      <td>Acer pseudoplatanus</td>\n",
       "      <td>25.7</td>\n",
       "      <td>0.34</td>\n",
       "    </tr>\n",
       "    <tr>\n",
       "      <th>4</th>\n",
       "      <td>Cupressus</td>\n",
       "      <td>448.2</td>\n",
       "      <td>1.85</td>\n",
       "    </tr>\n",
       "    <tr>\n",
       "      <th>...</th>\n",
       "      <td>...</td>\n",
       "      <td>...</td>\n",
       "      <td>...</td>\n",
       "    </tr>\n",
       "    <tr>\n",
       "      <th>12508</th>\n",
       "      <td>Philadelphus</td>\n",
       "      <td>396.2</td>\n",
       "      <td>2.11</td>\n",
       "    </tr>\n",
       "    <tr>\n",
       "      <th>12509</th>\n",
       "      <td>Forsythia x intermedia</td>\n",
       "      <td>320.9</td>\n",
       "      <td>2.34</td>\n",
       "    </tr>\n",
       "    <tr>\n",
       "      <th>12510</th>\n",
       "      <td>Aucuba japonica</td>\n",
       "      <td>356.2</td>\n",
       "      <td>1.46</td>\n",
       "    </tr>\n",
       "    <tr>\n",
       "      <th>12511</th>\n",
       "      <td>Osmanthus fragrans</td>\n",
       "      <td>240.7</td>\n",
       "      <td>1.17</td>\n",
       "    </tr>\n",
       "    <tr>\n",
       "      <th>12512</th>\n",
       "      <td>Total</td>\n",
       "      <td>5484735</td>\n",
       "      <td>25099</td>\n",
       "    </tr>\n",
       "  </tbody>\n",
       "</table>\n",
       "<p>12513 rows × 3 columns</p>\n",
       "</div>"
      ],
      "text/plain": [
       "                         Name Carbon Storage (kg)  \\\n",
       "0         Acer pseudoplatanus                  12   \n",
       "1         Acer pseudoplatanus                12.9   \n",
       "2         Acer pseudoplatanus                16.2   \n",
       "3         Acer pseudoplatanus                25.7   \n",
       "4                   Cupressus               448.2   \n",
       "...                       ...                 ...   \n",
       "12508            Philadelphus               396.2   \n",
       "12509  Forsythia x intermedia               320.9   \n",
       "12510         Aucuba japonica               356.2   \n",
       "12511      Osmanthus fragrans               240.7   \n",
       "12512                   Total             5484735   \n",
       "\n",
       "      Total Annual Benefits (eur/yr)  \n",
       "0                               0.21  \n",
       "1                               0.23  \n",
       "2                               0.25  \n",
       "3                               0.34  \n",
       "4                               1.85  \n",
       "...                              ...  \n",
       "12508                           2.11  \n",
       "12509                           2.34  \n",
       "12510                           1.46  \n",
       "12511                           1.17  \n",
       "12512                          25099  \n",
       "\n",
       "[12513 rows x 3 columns]"
      ]
     },
     "execution_count": 3,
     "metadata": {},
     "output_type": "execute_result"
    }
   ],
   "source": [
    "cols_save = ['Name', 'Carbon Storage (kg)', 'Total Annual Benefits (eur/yr)']\n",
    "tree_df = tree_df[cols_save]\n",
    "tree_df"
   ]
  },
  {
   "cell_type": "code",
   "execution_count": 4,
   "id": "bba0a6a1-ff0f-4c6a-8e4f-6329295ede2f",
   "metadata": {},
   "outputs": [],
   "source": [
    "tree_df2 = tree_df.copy()\n",
    "tree_df2['count'] = tree_df2.groupby(['Name'])['Name'].transform('count')\n",
    "tree_df2 = tree_df2.sort_values(by='count', ascending=False)"
   ]
  },
  {
   "cell_type": "code",
   "execution_count": 5,
   "id": "23e9b790-3aa1-47c3-aca3-60175454bfe1",
   "metadata": {},
   "outputs": [],
   "source": [
    "top_list = ['Celtis australis', 'Aesculus hippocastanum', 'Carpinus betulus', 'Tilia cordata', 'Platanus x hispanica', 'Tilia x europaea', 'Acer campestre', 'Cupressus', 'Sophora japonica']\n",
    "def replace_species(x):\n",
    "    if x in top_list:\n",
    "        return x\n",
    "    else:\n",
    "        return \"other\"\n",
    "tree_df2['Name'] = tree_df2['Name'].apply(replace_species)"
   ]
  },
  {
   "cell_type": "code",
   "execution_count": 6,
   "id": "67e872a8-f702-483a-8bbe-d73c251ce7b7",
   "metadata": {},
   "outputs": [],
   "source": [
    "var_left = 'Carbon Storage (kg)'\n",
    "var_right = 'Total Annual Benefits (eur/yr)'\n",
    "\n",
    "tree_df2['Storage per species'] = tree_df2.groupby(['Name'])[var_left].transform('sum')\n",
    "tree_df2['Euro saved per species'] = tree_df2.groupby(['Name'])[var_right].transform('sum')\n",
    "tree_df2.to_csv(\"data/ass5.csv\")"
   ]
  },
  {
   "cell_type": "code",
   "execution_count": null,
   "id": "214dcde5-c2fc-478f-9633-770a2e571db4",
   "metadata": {},
   "outputs": [],
   "source": []
  },
  {
   "cell_type": "code",
   "execution_count": null,
   "id": "d87d384f-fc46-418e-9d3e-556e93f1b52b",
   "metadata": {},
   "outputs": [],
   "source": []
  },
  {
   "cell_type": "code",
   "execution_count": null,
   "id": "c3b65dd2-cc9a-4d16-b3c4-bb894afe976f",
   "metadata": {},
   "outputs": [],
   "source": []
  },
  {
   "cell_type": "code",
   "execution_count": null,
   "id": "23ac0800-2c34-485f-90eb-3662977f4e09",
   "metadata": {},
   "outputs": [],
   "source": []
  }
 ],
 "metadata": {
  "kernelspec": {
   "display_name": "Python 3 (ipykernel)",
   "language": "python",
   "name": "python3"
  },
  "language_info": {
   "codemirror_mode": {
    "name": "ipython",
    "version": 3
   },
   "file_extension": ".py",
   "mimetype": "text/x-python",
   "name": "python",
   "nbconvert_exporter": "python",
   "pygments_lexer": "ipython3",
   "version": "3.9.12"
  }
 },
 "nbformat": 4,
 "nbformat_minor": 5
}
