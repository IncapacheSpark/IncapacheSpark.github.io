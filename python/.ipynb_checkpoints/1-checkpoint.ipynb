{
 "cells": [
  {
   "cell_type": "code",
   "execution_count": 3,
   "id": "31d276d4-3bbe-46a1-8948-dd999c0714c2",
   "metadata": {},
   "outputs": [],
   "source": [
    "import pandas\n",
    "import geopandas as gpd\n"
   ]
  },
  {
   "cell_type": "code",
   "execution_count": 4,
   "id": "73cb3e6e-e575-44aa-aa03-9d82ca53ca88",
   "metadata": {},
   "outputs": [],
   "source": [
    "df = gpd.read_file(\"data/geo_data_trees.geo.json\")"
   ]
  },
  {
   "cell_type": "code",
   "execution_count": 11,
   "id": "9925c6d4-24c4-431c-88b8-3ebf68f929a7",
   "metadata": {},
   "outputs": [
    {
     "data": {
      "text/plain": [
       "<pandas.core.groupby.generic.DataFrameGroupBy object at 0x000001479D829340>"
      ]
     },
     "execution_count": 11,
     "metadata": {},
     "output_type": "execute_result"
    }
   ],
   "source": [
    "df_byName = df.groupby(by=\"Name\")\n",
    "df_byName"
   ]
  },
  {
   "cell_type": "code",
   "execution_count": 20,
   "id": "22a3cd02-286d-47e2-98e2-fa69b0216989",
   "metadata": {},
   "outputs": [
    {
     "data": {
      "text/plain": [
       "(12513, 26)"
      ]
     },
     "execution_count": 20,
     "metadata": {},
     "output_type": "execute_result"
    }
   ],
   "source": []
  },
  {
   "cell_type": "code",
   "execution_count": 21,
   "id": "53b54fda-b076-44f4-9a1e-661846d676e1",
   "metadata": {},
   "outputs": [
    {
     "data": {
      "text/plain": [
       "'Acer pseudoplatanus'"
      ]
     },
     "execution_count": 21,
     "metadata": {},
     "output_type": "execute_result"
    }
   ],
   "source": [
    "firstRow = df.iloc[0]\n",
    "firstRow[1]"
   ]
  },
  {
   "cell_type": "code",
   "execution_count": 19,
   "id": "66ac29d5-fa75-437c-85db-b0146b36421a",
   "metadata": {},
   "outputs": [
    {
     "data": {
      "text/plain": [
       "array([1.0, 'Acer pseudoplatanus', '8', '179.43', '12', '1.92', '1.1',\n",
       "       '0.17', '0', '0.01', None, None, '5.1', '0.03', None, '0.21',\n",
       "       '2.8', '3.5', '1', '1.5', '1.8', '3.5', '0.2', 46.05159914222883,\n",
       "       11.07201360817719,\n",
       "       <shapely.geometry.point.Point object at 0x0000014799CA0670>],\n",
       "      dtype=object)"
      ]
     },
     "execution_count": 19,
     "metadata": {},
     "output_type": "execute_result"
    }
   ],
   "source": [
    "firstRow"
   ]
  },
  {
   "cell_type": "code",
   "execution_count": 28,
   "id": "693bee49-469a-4540-931c-cd390bd379d7",
   "metadata": {},
   "outputs": [],
   "source": [
    "occurrences = dict()\n",
    "for i in range(df.shape[0]):\n",
    "    name = df.iloc[i][1]\n",
    "    if name in occurrences:\n",
    "        occurrences[name]=occurrences[name]+1\n",
    "    else:\n",
    "        occurrences[name]=1\n",
    "\n",
    "\n",
    "trees_by_occurrences = sorted(occurrences.items(), key=lambda x:x[1], reverse=True)"
   ]
  },
  {
   "cell_type": "code",
   "execution_count": 29,
   "id": "9149b472-eb47-4c40-8781-9a3a75720b1e",
   "metadata": {},
   "outputs": [
    {
     "name": "stdout",
     "output_type": "stream",
     "text": [
      "('Celtis australis', 1028)\n",
      "('Aesculus hippocastanum', 581)\n",
      "('Carpinus betulus', 536)\n",
      "('Tilia cordata', 509)\n",
      "('Platanus x hispanica', 502)\n",
      "('Tilia x europaea', 471)\n",
      "('Acer campestre', 458)\n",
      "('Cupressus', 399)\n",
      "('Sophora japonica', 376)\n",
      "('Prunus cerasifera', 350)\n",
      "('Pinus nigra', 335)\n",
      "('Liriodendron tulipifera', 301)\n",
      "('Parrotia persica', 272)\n",
      "('Quercus robur', 272)\n",
      "('Robinia pseudoacacia', 269)\n",
      "('Cedrus deodara', 246)\n",
      "(\"Platanus x acerifolia 'Bloodgood'\", 220)\n",
      "('Ostrya carpinifolia', 211)\n",
      "('Prunus avium', 208)\n",
      "('Acer negundo', 178)\n",
      "('Acer pseudoplatanus', 171)\n",
      "('Pyrus calleryana', 167)\n",
      "('Acer platanoides', 157)\n",
      "('Cupressus sempervirens', 151)\n",
      "('Quercus rubra', 148)\n",
      "('Fraxinus excelsior', 144)\n",
      "('Liquidambar styraciflua', 141)\n",
      "('Fraxinus angustifolia', 132)\n",
      "('Fraxinus ornus', 131)\n",
      "('Betula pendula', 130)\n",
      "('Picea abies', 130)\n",
      "('Fagus sylvatica', 120)\n",
      "('Populus nigra', 110)\n",
      "('Betula', 103)\n",
      "('Morus nigra', 92)\n",
      "('Acer saccharinum', 89)\n",
      "('Corylus colurna', 88)\n",
      "('Morus alba', 76)\n",
      "('Alnus', 74)\n",
      "('Acer', 73)\n",
      "('Cedrus atlantica', 70)\n",
      "('Fraxinus', 69)\n",
      "('Quercus pubescens', 67)\n",
      "('Tilia platyphyllos', 61)\n",
      "('Magnolia grandiflora', 60)\n",
      "('Gleditsia triacanthos', 60)\n",
      "('Ginkgo biloba', 59)\n",
      "('Cercis siliquastrum', 56)\n",
      "('Cedrus libani', 52)\n",
      "('Ulmus', 51)\n",
      "('Taxus baccata', 47)\n",
      "('Ulmus minor', 46)\n",
      "('Acer palmatum', 41)\n",
      "('Prunus', 38)\n",
      "('Quercus petraea', 38)\n",
      "('Fraxinus americana', 36)\n",
      "('Ligustrum lucidum', 36)\n",
      "('Thuja orientalis', 36)\n",
      "('Acer buergerianum', 35)\n",
      "('Crataegus', 31)\n",
      "('Abies alba', 31)\n",
      "('Pseudotsuga menziesii', 31)\n",
      "('Pinus sylvestris', 30)\n",
      "('Platanus', 27)\n",
      "('Quercus ilex', 26)\n",
      "('Acer x freemanii', 26)\n",
      "('Ulmus glabra', 26)\n",
      "('Clerodendrum trichotomum', 25)\n",
      "('Pinus strobus', 24)\n",
      "('Acer rubrum', 24)\n",
      "('Tilia', 23)\n",
      "('Paulownia tomentosa', 23)\n",
      "('Ligustrum japonicum', 23)\n",
      "('Fagus', 22)\n",
      "('Populus alba', 22)\n",
      "('Platanus orientalis', 22)\n",
      "('Pyrus communis', 21)\n",
      "('Prunus dulcis', 21)\n",
      "('Berberis thunbergii', 21)\n",
      "('Prunus serrulata', 20)\n",
      "('Platanus occidentalis', 20)\n",
      "('Betula nigra', 20)\n",
      "('Quercus', 19)\n",
      "('Ilex aquifolium', 19)\n",
      "('Tilia x vulgaris', 19)\n",
      "('Malus floribunda', 19)\n",
      "('Catalpa bignonioides', 18)\n",
      "('Chamaecyparis lawsoniana', 18)\n",
      "('Ilex', 17)\n",
      "('Sambucus nigra', 17)\n",
      "('Sorbus aucuparia', 16)\n",
      "('Buxus sempervirens', 16)\n",
      "('Lagerstroemia indica', 15)\n",
      "('Ligustrum', 15)\n",
      "('Tilia x euchlora', 15)\n",
      "('Koelreuteria paniculata', 14)\n",
      "('Juglans nigra', 14)\n",
      "('Ulmus pumila', 14)\n",
      "('Magnolia x soulangeana', 13)\n",
      "('Acer monspessulanum', 13)\n",
      "('Olea europaea', 13)\n",
      "('Pterocarya rhoifolia', 13)\n",
      "('Parthenocissus', 13)\n",
      "('Taxodium distichum', 12)\n",
      "('Pyrus', 12)\n",
      "('Corylus avellana', 12)\n",
      "('Sorbus', 11)\n",
      "('Crataegus x lavallei', 11)\n",
      "('Prunus mahaleb', 11)\n",
      "('Ailanthus altissima', 11)\n",
      "('Picea pungens', 11)\n",
      "('Pinus wallichiana', 10)\n",
      "('Ficus carica', 10)\n",
      "('Davidia involucrata', 10)\n",
      "('Photinia x fraseri', 10)\n",
      "('Alnus incana', 10)\n",
      "('Malus', 9)\n",
      "('Salix babylonica', 9)\n",
      "('Cedrus', 9)\n",
      "('Larix decidua', 9)\n",
      "('Thuja', 9)\n",
      "('Metasequoia glyptostroboides', 8)\n",
      "('Sorbus thuringiaca', 8)\n",
      "('Abies', 8)\n",
      "('Cornus', 8)\n",
      "('Diospyros kaki', 7)\n",
      "('Juglans regia', 7)\n",
      "('Nerium oleander', 7)\n",
      "('Salix', 7)\n",
      "('Diospyros lotus', 7)\n",
      "('Prunus laurocerasus', 7)\n",
      "('Sorbus torminalis', 7)\n",
      "('Elaeagnus pungens', 7)\n",
      "('Acer tataricum ssp. ginnala', 6)\n",
      "('Alnus glutinosa', 6)\n",
      "('Pterocarya', 6)\n",
      "('Laurus nobilis', 6)\n",
      "('Magnolia', 6)\n",
      "('Populus', 6)\n",
      "('Prunus padus', 6)\n",
      "('Cupressus arizonica', 6)\n",
      "('Corylus maxima', 6)\n",
      "('Juniperus chinensis', 6)\n",
      "('Crataegus monogyna', 5)\n",
      "('Picea', 5)\n",
      "('Photinia serrulata', 5)\n",
      "('Quercus cerris', 5)\n",
      "('Zelkova carpinifolia', 5)\n",
      "('Picea glauca', 5)\n",
      "('Pinus', 4)\n",
      "('Prunus domestica', 4)\n",
      "('Tilia tomentosa', 4)\n",
      "('Morus', 4)\n",
      "('Picea obovata', 4)\n",
      "('Juniperus drupacea', 4)\n",
      "('Wisteria sinensis', 4)\n",
      "('Juglans', 3)\n",
      "('Sequoiadendron giganteum', 3)\n",
      "('Eriobotrya japonica', 3)\n",
      "('Ulmus laevis', 3)\n",
      "('Chamaecyparis', 3)\n",
      "('Cupressus torulosa', 3)\n",
      "('Cupressus lusitanica', 3)\n",
      "('Pinus pinaster', 3)\n",
      "('Pinus halepensis', 3)\n",
      "('Albizia julibrissin', 3)\n",
      "('Lonicera', 3)\n",
      "('Pittosporum tobira', 3)\n",
      "('Osmanthus fragrans', 3)\n",
      "('Rhododendron obtusum', 3)\n",
      "('Salix magnifica', 3)\n",
      "('Philadelphus', 3)\n",
      "('Malus sylvestris', 2)\n",
      "('Thuja occidentalis', 2)\n",
      "('Fraxinus angustifolia ssp. Oxycarpa', 2)\n",
      "('Pinus coulteri', 2)\n",
      "('Hibiscus syriacus', 2)\n",
      "('Cornus mas', 2)\n",
      "('Salix x sepulcralis v. chrysocoma', 2)\n",
      "('Populus tremula', 2)\n",
      "('Arbutus unedo', 2)\n",
      "('Thuja plicata', 2)\n",
      "('Salix alba', 2)\n",
      "('Maclura pomifera', 2)\n",
      "('Jasminum', 2)\n",
      "('Cornus sanguinea', 2)\n",
      "('Viburnum sieboldii', 2)\n",
      "('Punica granatum', 2)\n",
      "('Hedera helix', 2)\n",
      "('Philadelphus pubescens', 2)\n",
      "('Elaeagnus', 2)\n",
      "('Spiraea japonica', 2)\n",
      "('Spiraea', 2)\n",
      "('Calycanthus', 2)\n",
      "('Viburnum', 2)\n",
      "('Aucuba japonica', 2)\n",
      "('Acer opalus', 1)\n",
      "('Acacia', 1)\n",
      "('Abies nordmanniana', 1)\n",
      "('Sequoia sempervirens', 1)\n",
      "('Lagerstroemia', 1)\n",
      "('Magnolia kobus', 1)\n",
      "('Laburnum anagyroides', 1)\n",
      "('Pinus bungeana', 1)\n",
      "('Rhus typhina', 1)\n",
      "('Prunus lusitanica', 1)\n",
      "('Eucalyptus cordata', 1)\n",
      "('Picea sitchensis', 1)\n",
      "('Prunus amygdalus', 1)\n",
      "('Pinus cembra', 1)\n",
      "('Abies pinsapo', 1)\n",
      "('Betula lenta', 1)\n",
      "('Aesculus', 1)\n",
      "('Alnus cordata', 1)\n",
      "('Catalpa', 1)\n",
      "('Tamarix gallica', 1)\n",
      "('Acer tataricum', 1)\n",
      "('Torreya nucifera', 1)\n",
      "('Calocedrus decurrens', 1)\n",
      "('Cornus nuttallii', 1)\n",
      "('Zanthoxylum flavum', 1)\n",
      "('Syringa vulgaris', 1)\n",
      "('Forsythia viridissima', 1)\n",
      "('Forsythia x intermedia', 1)\n",
      "('Total', 1)\n"
     ]
    }
   ],
   "source": [
    "for elem in trees_by_occurrences:\n",
    "    print(elem)"
   ]
  },
  {
   "cell_type": "code",
   "execution_count": null,
   "id": "477b25dc-39f9-41fc-9775-63385a2f7e5e",
   "metadata": {},
   "outputs": [],
   "source": []
  },
  {
   "cell_type": "code",
   "execution_count": null,
   "id": "1c54bd2a-1af1-408c-a028-1eb6ecef2e44",
   "metadata": {},
   "outputs": [],
   "source": []
  }
 ],
 "metadata": {
  "kernelspec": {
   "display_name": "Python 3 (ipykernel)",
   "language": "python",
   "name": "python3"
  },
  "language_info": {
   "codemirror_mode": {
    "name": "ipython",
    "version": 3
   },
   "file_extension": ".py",
   "mimetype": "text/x-python",
   "name": "python",
   "nbconvert_exporter": "python",
   "pygments_lexer": "ipython3",
   "version": "3.9.12"
  }
 },
 "nbformat": 4,
 "nbformat_minor": 5
}
