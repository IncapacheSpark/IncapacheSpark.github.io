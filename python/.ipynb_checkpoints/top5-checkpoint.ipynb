{
 "cells": [
  {
   "cell_type": "code",
   "execution_count": null,
   "id": "e8aa8d52-2c67-4a6d-bd0d-d32bc52ae91d",
   "metadata": {},
   "outputs": [],
   "source": [
    "import geopandas as gpd\n",
    "import pandas as pd; pd.set_option(\"display.max_rows\", None)"
   ]
  },
  {
   "cell_type": "code",
   "execution_count": null,
   "id": "79128610-412d-4867-866d-abb45f768331",
   "metadata": {},
   "outputs": [],
   "source": [
    "circo_df = gpd.read_file(\"data/circoscrizioni.json\")\n",
    "circo_df = circo_df[['numero_cir', 'nome', 'geometry']]\n",
    "circo_df.head()"
   ]
  },
  {
   "cell_type": "code",
   "execution_count": null,
   "id": "5ec56d8c-ec35-4041-b7b7-ce35c19691e0",
   "metadata": {},
   "outputs": [],
   "source": [
    "circo_geometry_col = circo_df[\"geometry\"]\n",
    "circo_geometry_col"
   ]
  },
  {
   "cell_type": "code",
   "execution_count": null,
   "id": "a29554cb-1c95-4899-bb6a-6ae2e6d0df96",
   "metadata": {},
   "outputs": [],
   "source": [
    "tree_df = gpd.read_file(\"data/geo_data_trees.geo.json\")\n",
    "tree_df = tree_df[['Tree ID', 'Name', 'geometry']]\n",
    "tree_df.head()"
   ]
  },
  {
   "cell_type": "code",
   "execution_count": null,
   "id": "b3dccbb0-7e17-42b3-85ec-9a9d1086794b",
   "metadata": {},
   "outputs": [],
   "source": [
    "def get_circoscrizione(tree_point):\n",
    "    for idx_polygon, polygon in circo_geometry_col.items():\n",
    "        if tree_point == None: return \"None\"\n",
    "        if tree_point.within(polygon):\n",
    "            return  circo_df['nome'][idx_polygon]"
   ]
  },
  {
   "cell_type": "code",
   "execution_count": null,
   "id": "0a3510dc-177d-4856-aa23-62f91d2d041f",
   "metadata": {
    "scrolled": true,
    "tags": []
   },
   "outputs": [],
   "source": [
    "tree_df2 = tree_df.copy()\n",
    "tree_df2['circoscrizione'] = \"\"\n",
    "tree_df2['circoscrizione']= tree_df2['geometry'].map(get_circoscrizione)"
   ]
  },
  {
   "cell_type": "code",
   "execution_count": null,
   "id": "38ec775d-9066-4a77-a812-b57084dbdd93",
   "metadata": {
    "scrolled": true,
    "tags": []
   },
   "outputs": [],
   "source": [
    "tree_df2"
   ]
  },
  {
   "cell_type": "code",
   "execution_count": null,
   "id": "668ae4e9-2e3d-480e-bf53-41dfd6215934",
   "metadata": {
    "scrolled": true,
    "tags": []
   },
   "outputs": [],
   "source": [
    "top_list = ['Celtis australis', 'Aesculus hippocastanum', 'Carpinus betulus', 'Tilia cordata', 'Platanus']\n",
    "\n",
    "def replace_species(x):\n",
    "        if x in top_list:\n",
    "            return x\n",
    "        else:\n",
    "            return \"other\"\n",
    "\n",
    "tree_df3 = new_tree_df.copy()\n",
    "tree_df3['Name'] = tree_df3['Name'].apply(replace_species)\n",
    "tree_df3"
   ]
  },
  {
   "cell_type": "code",
   "execution_count": null,
   "id": "612cb35c-7517-4ca5-b4a6-004721b32b2f",
   "metadata": {
    "scrolled": true,
    "tags": []
   },
   "outputs": [],
   "source": [
    "tree_df4 = tree_df3.copy()\n",
    "tree_df4 = tree_df4.drop([\"geometry\", \"Tree ID\"], axis=1)\n",
    "tree_df4['count'] = tree_df4.groupby(['circoscrizione', 'Name'])['Name'].transform('count')\n",
    "tree_df4 = tree_df4.drop_duplicates()\n",
    "tree_df4 = tree_df4.sort_values(by='circoscrizione', ascending=True)\n",
    "tree_df4"
   ]
  },
  {
   "cell_type": "code",
   "execution_count": null,
   "id": "0dc7fcb5-f21d-4f5f-9c1d-8dbca2320fc8",
   "metadata": {},
   "outputs": [],
   "source": [
    "tree_df4.to_csv(\"circos_per_trees.csv\")"
   ]
  },
  {
   "cell_type": "markdown",
   "id": "664ee526-949e-4a76-ad66-3b718e2115e9",
   "metadata": {
    "jp-MarkdownHeadingCollapsed": true,
    "tags": []
   },
   "source": [
    "### provando plot"
   ]
  },
  {
   "cell_type": "raw",
   "id": "9964c863-01f8-47a6-aa1a-6f3a6b678ac7",
   "metadata": {},
   "source": [
    "df.plot(\"fumetto\", legend=True)"
   ]
  },
  {
   "cell_type": "code",
   "execution_count": null,
   "id": "c0de35a4-fb0f-46af-829e-eec0efaad102",
   "metadata": {},
   "outputs": [],
   "source": [
    "tree_df.explore()"
   ]
  },
  {
   "cell_type": "code",
   "execution_count": null,
   "id": "9d02a92e-20da-429f-a055-0a8739f49a1c",
   "metadata": {},
   "outputs": [],
   "source": [
    "tree_df.plot()"
   ]
  },
  {
   "cell_type": "code",
   "execution_count": null,
   "id": "36213e6c-7d05-4ab5-a5d1-926410206eaa",
   "metadata": {},
   "outputs": [],
   "source": [
    "tree_df.iloc[0].plot()"
   ]
  },
  {
   "cell_type": "code",
   "execution_count": null,
   "id": "aa654198-bd85-4fbd-834d-3319d7fcf2ad",
   "metadata": {},
   "outputs": [],
   "source": [
    "ax = circo_df[\"geometry\"].plot()\n",
    "tree_df.iloc[0].plot(ax=ax, color=\"black\")"
   ]
  },
  {
   "cell_type": "code",
   "execution_count": null,
   "id": "cee7ad79-ab37-47fc-a187-82b7ce98e328",
   "metadata": {},
   "outputs": [],
   "source": [
    "ax, fig = mat"
   ]
  },
  {
   "cell_type": "code",
   "execution_count": null,
   "id": "54d1b986-5b06-42bd-b6c0-2c4385c1d571",
   "metadata": {},
   "outputs": [],
   "source": [
    "df['centroid'] = df.centroid"
   ]
  },
  {
   "cell_type": "code",
   "execution_count": null,
   "id": "1754fb6f-f3f4-4ec5-989e-07637c17f59b",
   "metadata": {},
   "outputs": [],
   "source": [
    "ax = df[\"geometry\"].plot()\n",
    "df[\"centroid\"].plot(ax=ax, color=\"black\")"
   ]
  },
  {
   "cell_type": "code",
   "execution_count": null,
   "id": "fcf1f3e4-c955-48f4-a35c-a409e6ba6ad1",
   "metadata": {},
   "outputs": [],
   "source": [
    "meano = df.loc[0, \"geometry\"]\n",
    "meano"
   ]
  }
 ],
 "metadata": {
  "kernelspec": {
   "display_name": "Python 3 (ipykernel)",
   "language": "python",
   "name": "python3"
  },
  "language_info": {
   "codemirror_mode": {
    "name": "ipython",
    "version": 3
   },
   "file_extension": ".py",
   "mimetype": "text/x-python",
   "name": "python",
   "nbconvert_exporter": "python",
   "pygments_lexer": "ipython3",
   "version": "3.9.12"
  }
 },
 "nbformat": 4,
 "nbformat_minor": 5
}
